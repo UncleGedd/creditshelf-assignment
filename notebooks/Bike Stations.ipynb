{
 "cells": [
  {
   "cell_type": "markdown",
   "id": "hindu-society",
   "metadata": {},
   "source": [
    "# Stage 3\n",
    "Read in bike station data"
   ]
  },
  {
   "cell_type": "code",
   "execution_count": 1,
   "id": "caroline-sally",
   "metadata": {},
   "outputs": [],
   "source": [
    "import pandas as pd\n",
    "\n",
    "files = [\n",
    "    '201901-citibike-tripdata.csv',\n",
    "    '201902-citibike-tripdata.csv',\n",
    "    '201903-citibike-tripdata.csv',\n",
    "    '201904-citibike-tripdata.csv',\n",
    "    '201905-citibike-tripdata.csv',\n",
    "    '201906-citibike-tripdata.csv',\n",
    "    '201907-citibike-tripdata.csv',\n",
    "    '201908-citibike-tripdata.csv',\n",
    "    '201909-citibike-tripdata.csv',\n",
    "    '201910-citibike-tripdata.csv',\n",
    "    '201911-citibike-tripdata.csv',\n",
    "    '201912-citibike-tripdata.csv',\n",
    "]\n",
    "\n",
    "base = './data/'\n",
    "cols = ['start station latitude',\n",
    "       'start station longitude',\n",
    "       'end station latitude',\n",
    "       'end station longitude',\n",
    "       'start station id',\n",
    "       'end station id']\n",
    "df_monthly = (pd.read_csv(base + f, usecols=cols) for f in files)    \n",
    "df_year = pd.concat(df_monthly, ignore_index=True)"
   ]
  },
  {
   "cell_type": "code",
   "execution_count": 2,
   "id": "immediate-utility",
   "metadata": {},
   "outputs": [],
   "source": [
    "df_start = df_year.iloc[:,:3]\n",
    "df_end = df_year.iloc[:,3:]\n",
    "df_start.columns = df_end.columns = ['id', 'latitude', 'longitude']\n",
    "df_stations = pd.concat([df_start, df_end]).drop_duplicates().reset_index(drop=True)\n",
    "df_stations = df_stations.groupby('id').agg(lambda i: i.iloc[0]).reset_index()\n",
    "df_stations['id'] = df_stations['id'].astype(int)"
   ]
  },
  {
   "cell_type": "code",
   "execution_count": 3,
   "id": "healthy-origin",
   "metadata": {},
   "outputs": [],
   "source": [
    "import sqlite3\n",
    "\n",
    "def connect_db():\n",
    "    try:\n",
    "        conn = sqlite3.connect('./data/database.db', detect_types=sqlite3.PARSE_DECLTYPES)\n",
    "    except sqlite3.Error as err:\n",
    "        print(err)\n",
    "    if conn:\n",
    "        return conn"
   ]
  },
  {
   "cell_type": "code",
   "execution_count": 4,
   "id": "disciplinary-split",
   "metadata": {},
   "outputs": [],
   "source": [
    "conn = connect_db()\n",
    "cursor = conn.cursor()\n",
    "create_table_sql = '''\n",
    "CREATE TABLE IF NOT EXISTS collisions(\n",
    " collision_id INTEGER PRIMARY KEY,\n",
    " crash_datetime DATETIME,\n",
    " latitude DOUBLE,\n",
    " longitude DOUBLE,\n",
    " cyclist_injured INTEGER,\n",
    " cyclist_killed INTEGER,\n",
    " borough VARCHAR(255)\n",
    ")\n",
    "'''\n",
    "cursor.execute(create_table_sql)\n",
    "conn.commit()"
   ]
  },
  {
   "cell_type": "code",
   "execution_count": 5,
   "id": "thousand-wheel",
   "metadata": {},
   "outputs": [],
   "source": [
    "df_stations.to_sql('bike_stations', conn, if_exists='append', index=False)\n",
    "conn.commit()\n",
    "conn.close()"
   ]
  }
 ],
 "metadata": {
  "kernelspec": {
   "display_name": "Python 3",
   "language": "python",
   "name": "python3"
  },
  "language_info": {
   "codemirror_mode": {
    "name": "ipython",
    "version": 3
   },
   "file_extension": ".py",
   "mimetype": "text/x-python",
   "name": "python",
   "nbconvert_exporter": "python",
   "pygments_lexer": "ipython3",
   "version": "3.9.0"
  }
 },
 "nbformat": 4,
 "nbformat_minor": 5
}
